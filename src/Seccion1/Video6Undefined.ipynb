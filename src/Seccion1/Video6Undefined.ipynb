{
 "cells": [
  {
   "cell_type": "markdown",
   "id": "c2d0d7ee",
   "metadata": {},
   "source": [
    "**Video 6** Undefined\n",
    "\n",
    "Cuando se manda a imprimir una variable que no se ha definido antes de mandarlo a consola, el resultado del valor será UNDEFINED ya que no ah seido declarado con anterioridad.\n"
   ]
  },
  {
   "cell_type": "code",
   "execution_count": 1,
   "id": "5e7c1d3e",
   "metadata": {},
   "outputs": [
    {
     "name": "stdout",
     "output_type": "stream",
     "text": [
      "undefined\n",
      "undefined\n",
      "undefined\n",
      "Fernando\n",
      "3\n",
      "true\n"
     ]
    }
   ],
   "source": [
    "console.log(a);\n",
    "console.log(b);\n",
    "console.log(c);\n",
    "\n",
    "var a = \"Fernando\";\n",
    "var b = 3;\n",
    "var c = true;\n",
    "\n",
    "console.log(a);\n",
    "console.log(b);\n",
    "console.log(c);\n"
   ]
  },
  {
   "cell_type": "markdown",
   "id": "29bce9ad",
   "metadata": {},
   "source": [
    "Pero undefined no es lo mismo que null.\n",
    "\n",
    "• Triple igual ( === ) se refiere a compara tanto valor como objeto.\n",
    "• Doble igual ( == ) compara el valor, y en este caso los dos no tienen valores."
   ]
  },
  {
   "cell_type": "code",
   "execution_count": 4,
   "id": "7dd24ce8",
   "metadata": {},
   "outputs": [
    {
     "data": {
      "text/plain": [
       "false"
      ]
     },
     "execution_count": 4,
     "metadata": {},
     "output_type": "execute_result"
    }
   ],
   "source": [
    "undefined === null\n"
   ]
  },
  {
   "cell_type": "code",
   "execution_count": 5,
   "id": "150e89d7",
   "metadata": {},
   "outputs": [
    {
     "data": {
      "text/plain": [
       "true"
      ]
     },
     "execution_count": 5,
     "metadata": {},
     "output_type": "execute_result"
    }
   ],
   "source": [
    "undefined == null"
   ]
  },
  {
   "cell_type": "raw",
   "id": "3c1b006d",
   "metadata": {},
   "source": [
    "Pero todo objeto diferente al que se le aplique === va a retornar un falso.\n",
    "NOTA. COMO SE PUEDE OBSERVAR LA CONSOLA DEL NAVEGADOR NUNCA\n",
    "MANDO ERROR, AHORA SI NOSOTROS HACEMOS LO SIGUIENTE.\n"
   ]
  },
  {
   "cell_type": "code",
   "execution_count": 6,
   "id": "2cf55bb0",
   "metadata": {},
   "outputs": [
    {
     "name": "stdout",
     "output_type": "stream",
     "text": [
      "undefined\n"
     ]
    },
    {
     "ename": "ReferenceError",
     "evalue": "varnueva is not defined",
     "output_type": "error",
     "traceback": [
      "evalmachine.<anonymous>:3",
      "console.log(varnueva)",
      "            ^",
      "",
      "ReferenceError: varnueva is not defined",
      "    at evalmachine.<anonymous>:3:13",
      "    at Script.runInThisContext (node:vm:129:12)",
      "    at Object.runInThisContext (node:vm:305:38)",
      "    at run ([eval]:1054:15)",
      "    at onRunRequest ([eval]:888:18)",
      "    at onMessage ([eval]:848:13)",
      "    at process.emit (node:events:520:28)",
      "    at emit (node:internal/child_process:938:14)",
      "    at processTicksAndRejections (node:internal/process/task_queues:84:21)"
     ]
    }
   ],
   "source": [
    "console.log(nombre);\n",
    "var nombre = \"Cesar\";\n",
    "console.log(varnueva)"
   ]
  },
  {
   "attachments": {},
   "cell_type": "markdown",
   "id": "c2a192be",
   "metadata": {},
   "source": [
    "Javascript es un lenguaje interpretado de contexto. Por lo tanto lo que hace es lo\n",
    "siguiente.\n",
    "Lo que hace el navegador es ver el archivo js.\n",
    "\n",
    "\n",
    "Una ves que lo hace, el motor de javascript lo que hace es abrir el archivo js."
   ]
  }
 ],
 "metadata": {
  "kernelspec": {
   "display_name": "JavaScript (Node.js)",
   "language": "javascript",
   "name": "javascript"
  },
  "language_info": {
   "file_extension": ".js",
   "mimetype": "application/javascript",
   "name": "javascript",
   "version": "16.14.0"
  }
 },
 "nbformat": 4,
 "nbformat_minor": 5
}
